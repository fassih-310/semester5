{
 "cells": [
  {
   "cell_type": "code",
   "execution_count": 5,
   "metadata": {},
   "outputs": [
    {
     "name": "stdout",
     "output_type": "stream",
     "text": [
      "Book_Id |  Author           |       Title    |       Genre        |        price     |          publish date |  Description\n"
     ]
    }
   ],
   "source": [
    "from xml.dom import minidom\n",
    "import pandas as pd\n",
    "\n",
    "# Writing to an Excel\n",
    "# sheet using Python\n",
    "\n",
    "\n",
    "doc = minidom.parse(\"compiler xml Assignment.xml\")\n",
    "\n",
    "\n",
    "\n",
    "books = doc.getElementsByTagName(\"book\")\n",
    "print(\n",
    "    \"Book_Id |  Author           |       Title    |       Genre        |        price     |          publish date |  \"\n",
    "    \"Description\")\n",
    "data = []\n",
    "for book in books:\n",
    "    book_id = book.getAttribute(\"id\")\n",
    "    author = book.getElementsByTagName(\"author\")[0]\n",
    "    title = book.getElementsByTagName(\"title\")[0]\n",
    "    genre = book.getElementsByTagName(\"genre\")[0]\n",
    "    price = book.getElementsByTagName(\"price\")[0]\n",
    "    publish_date = book.getElementsByTagName(\"publish_date\")[0]\n",
    "    description = book.getElementsByTagName(\"description\")[0]\n",
    "    Book_data = {(book_id, \"  | \", author.firstChild.data, \"  |   \", title.firstChild.data, \"  | \",\n",
    "                  genre.firstChild.data, \"  | \", price.firstChild.data, \"  | \", publish_date.firstChild.data, \" | \",\n",
    "                  description.firstChild.data)}\n",
    "    data.append(Book_data)\n",
    "df = pd.DataFrame(data)\n",
    "df.to_excel(\"file.xlsx\", index=False)\n",
    "#  sheet1.write(0,1,book_id[0])\n",
    "# wb.save('xlwt excel1.xls')"
   ]
  },
  {
   "cell_type": "code",
   "execution_count": null,
   "metadata": {},
   "outputs": [],
   "source": []
  }
 ],
 "metadata": {
  "kernelspec": {
   "display_name": "Python 3",
   "language": "python",
   "name": "python3"
  },
  "language_info": {
   "codemirror_mode": {
    "name": "ipython",
    "version": 3
   },
   "file_extension": ".py",
   "mimetype": "text/x-python",
   "name": "python",
   "nbconvert_exporter": "python",
   "pygments_lexer": "ipython3",
   "version": "3.7.4"
  }
 },
 "nbformat": 4,
 "nbformat_minor": 2
}
